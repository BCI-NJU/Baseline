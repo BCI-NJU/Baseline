{
 "cells": [
  {
   "cell_type": "markdown",
   "metadata": {},
   "source": [
    "# 验证lyh的数据\n",
    "1. 同一trial不同channels的均值, 标准差(每个类别选一个trial)\n",
    "2. 在1的基础上，每个类别取三个不同trials进行比较"
   ]
  },
  {
   "cell_type": "code",
   "execution_count": 48,
   "metadata": {},
   "outputs": [],
   "source": [
    "import os\n",
    "import numpy as np\n",
    "import pandas as pd\n",
    "from scipy.signal import butter, filtfilt, iirnotch, lfilter\n",
    "from copy import deepcopy\n",
    "from load_lyh_data import  *"
   ]
  },
  {
   "cell_type": "code",
   "execution_count": 49,
   "metadata": {},
   "outputs": [
    {
     "name": "stdout",
     "output_type": "stream",
     "text": [
      "Loaded nothing1_orginal.npy: Shape=(100,), Dtype=object\n",
      "Loaded nothing2_orginal.npy: Shape=(100,), Dtype=object\n",
      "Loaded nothing3_orginal.npy: Shape=(100,), Dtype=object\n",
      "Loaded left1_orginal.npy: Shape=(100,), Dtype=object\n",
      "Loaded left2_orginal.npy: Shape=(100,), Dtype=object\n",
      "Loaded left3_orginal.npy: Shape=(100,), Dtype=object\n",
      "Loaded right1_orginal.npy: Shape=(100,), Dtype=object\n",
      "Loaded right2_orginal.npy: Shape=(100,), Dtype=object\n",
      "Loaded right3_orginal.npy: Shape=(100,), Dtype=object\n",
      "Loaded leg1_orginal.npy: Shape=(100,), Dtype=object\n",
      "Loaded leg2_orginal.npy: Shape=(100,), Dtype=object\n",
      "Loaded leg3_orginal.npy: Shape=(100,), Dtype=object\n"
     ]
    }
   ],
   "source": [
    "raw_data_dict = read_folder_npy_data()"
   ]
  },
  {
   "cell_type": "code",
   "execution_count": 50,
   "metadata": {},
   "outputs": [],
   "source": [
    "nothing_data = np.array(raw_data_dict[\"nothing1_orginal.npy\"])\n",
    "left_data = np.array(raw_data_dict[\"left1_orginal.npy\"])\n",
    "right_data = np.array(raw_data_dict[\"right1_orginal.npy\"])\n",
    "leg_data = np.array(raw_data_dict[\"leg1_orginal.npy\"])"
   ]
  },
  {
   "cell_type": "code",
   "execution_count": 57,
   "metadata": {},
   "outputs": [
    {
     "name": "stdout",
     "output_type": "stream",
     "text": [
      "trail 0 (nothing): \n",
      "         mean: [4304.742323 4262.193481 4333.539362 4322.244482 4280.761666 4267.906918\n",
      " 4275.134876 4277.960642 4275.746675 4265.885    4517.154738 4483.34974\n",
      " 4397.841916 4441.633957] \n",
      "        std:  [27.00945701 42.53439893 18.20062109 17.45057305  8.13005192 11.75323991\n",
      " 11.80548573 17.01753151 14.51595383 13.86644015 21.6265328  18.34036252\n",
      " 27.52470416 22.73835664]\n",
      "        std between channels: 84.27802140090482\n"
     ]
    }
   ],
   "source": [
    "trial = np.array(nothing_data[0])\n",
    "trial = trial[2:1002, 2:16].T  # 14 x 1000\n",
    "mean = trial.mean(axis=1)\n",
    "std = trial.std(axis=1)\n",
    "print(f\"trail 0 (nothing): \\n \\\n",
    "        mean: {mean} \\n\\\n",
    "        std:  {std}\\n\\\n",
    "        std between channels: {mean.std()}\")"
   ]
  },
  {
   "cell_type": "code",
   "execution_count": 52,
   "metadata": {},
   "outputs": [
    {
     "name": "stdout",
     "output_type": "stream",
     "text": [
      "trail 1 (nothing): \n",
      "         mean: [4297.6946   4307.343706 4323.206156 4315.60487  4282.181403 4270.919498\n",
      " 4274.908977 4275.993968 4266.030649 4258.095381 4510.982299 4477.783342\n",
      " 4384.972188 4442.813204] \n",
      "        std:  [14.12869297 24.77838953 13.87577744 16.79077423  9.51098841  9.92075967\n",
      " 10.99440077 11.93964542 14.75237194 14.91782674 22.06484558 12.96717327\n",
      " 28.38567184 13.98154913]\n",
      "        std between channels: 81.42011133618195\n",
      "trail 2 (nothing): \n",
      "         mean: [4300.648076 4298.211669 4325.364367 4317.509872 4277.10589  4274.407438\n",
      " 4275.882587 4284.26178  4269.60218  4262.726801 4513.401149 4480.122311\n",
      " 4384.673596 4436.42283 ] \n",
      "        std:  [12.31403282 11.81556139 11.6793018  10.76901834  8.98340742  9.3671464\n",
      " 10.50770666 11.71627466 11.1536631  10.99152161 14.55998746 13.30019268\n",
      " 15.94148882  8.90070549]\n",
      "        std between channels: 80.69287994375624\n"
     ]
    }
   ],
   "source": [
    "trial1 = np.array(nothing_data[1])\n",
    "trial1 = trial1[2:1002, 2:16].T  # 14 x 1000\n",
    "mean = trial1.mean(axis=1)\n",
    "std = trial1.std(axis=1)\n",
    "print(f\"trail 1 (nothing): \\n \\\n",
    "        mean: {mean} \\n\\\n",
    "        std:  {std}\\n\\\n",
    "        std between channels: {mean.std()}\")\n",
    "\n",
    "trial2 = np.array(nothing_data[2])\n",
    "trial2 = trial2[2:1002, 2:16].T  # 14 x 1000\n",
    "mean = trial2.mean(axis=1)\n",
    "std = trial2.std(axis=1)\n",
    "print(f\"trail 2 (nothing): \\n \\\n",
    "        mean: {mean} \\n\\\n",
    "        std:  {std}\\n\\\n",
    "        std between channels: {mean.std()}\")"
   ]
  },
  {
   "cell_type": "code",
   "execution_count": 53,
   "metadata": {},
   "outputs": [
    {
     "name": "stdout",
     "output_type": "stream",
     "text": [
      "mean between trials: [4299.75214405 4285.12655798 4326.29374973 4316.99807611 4279.63027559\n",
      " 4271.68203029 4271.55533862 4278.96522243 4269.4510993  4262.81232543\n",
      " 4513.69856645 4479.53049374 4388.44006711 4437.91771634] \n",
      "std between trials:  [ 7.36250552 36.39497444  8.4195069   8.32116148  7.84695561 25.62412688\n",
      " 13.54004474 10.76758373  5.06378907  6.07477163 10.00893925  5.8065428\n",
      " 15.67012214 40.2208127 ]\n"
     ]
    }
   ],
   "source": [
    "mean_100_trials = []\n",
    "std_100_trials = []\n",
    "for trial in nothing_data:\n",
    "    trial = np.array(trial)\n",
    "    trial = trial[2:1002, 2:16].T\n",
    "    mean =  trial.mean(axis=1)\n",
    "    std = trial.std(axis=1)\n",
    "    mean_100_trials.append(mean)\n",
    "    std_100_trials.append(std)\n",
    "\n",
    "mean = np.mean(mean_100_trials, axis=0)\n",
    "std = np.std(std_100_trials, axis=0)\n",
    "\n",
    "print(f\"mean between trials: {mean} \\nstd between trials:  {std}\")\n"
   ]
  },
  {
   "cell_type": "code",
   "execution_count": 54,
   "metadata": {},
   "outputs": [
    {
     "name": "stdout",
     "output_type": "stream",
     "text": [
      "mean between trials: [4309.99748465 4296.0589315  4332.20154114 4325.5368777  4291.8318777\n",
      " 4285.19331252 4288.79731555 4290.46818383 4283.03633931 4273.44631043\n",
      " 4505.38549139 4484.61637977 4394.29762697 4453.38855818] \n",
      "std between trials:  [47.93410788 38.22911562 29.81563066 20.93825384 21.25330943 23.76205147\n",
      " 94.42777442 49.13826057 19.77183505 18.31840686 23.13413175 31.31759759\n",
      " 21.32415495 21.74058137]\n"
     ]
    }
   ],
   "source": [
    "mean_100_trials = []\n",
    "std_100_trials = []\n",
    "for trial in left_data:\n",
    "    trial = np.array(trial)\n",
    "    trial = trial[2:1002, 2:16].T\n",
    "    mean = trial.mean(axis=1)\n",
    "    std = trial.std(axis=1)\n",
    "    mean_100_trials.append(mean)\n",
    "    std_100_trials.append(std)\n",
    "\n",
    "mean = np.mean(mean_100_trials, axis=0)\n",
    "std = np.std(std_100_trials, axis=0)\n",
    "\n",
    "print(f\"mean between trials: {mean} \\nstd between trials:  {std}\")"
   ]
  },
  {
   "cell_type": "code",
   "execution_count": 55,
   "metadata": {},
   "outputs": [
    {
     "name": "stdout",
     "output_type": "stream",
     "text": [
      "mean between trials: [4293.96516684 4279.23238869 4323.68654971 4312.38048741 4274.27293826\n",
      " 4265.92589263 4265.34290793 4273.41343369 4264.20180576 4258.03140218\n",
      " 4515.59329366 4476.36079508 4387.82571199 4442.95581114] \n",
      "std between trials:  [11.2659731  18.12995526  6.77952083  7.61504335  9.84823223 19.20461368\n",
      "  6.59990685 10.35222352  5.04422108  6.32300981 16.86807512 10.98633566\n",
      " 14.17929448 13.21157144]\n"
     ]
    }
   ],
   "source": [
    "mean_100_trials = []\n",
    "std_100_trials = []\n",
    "for trial in right_data:\n",
    "    trial = np.array(trial)\n",
    "    trial = trial[2:1002, 2:16].T\n",
    "    mean =  trial.mean(axis=1)\n",
    "    std = trial.std(axis=1)\n",
    "    mean_100_trials.append(mean)\n",
    "    std_100_trials.append(std)\n",
    "\n",
    "mean = np.mean(mean_100_trials, axis=0)\n",
    "std = np.std(std_100_trials, axis=0)\n",
    "\n",
    "print(f\"mean between trials: {mean} \\nstd between trials:  {std}\")"
   ]
  },
  {
   "cell_type": "code",
   "execution_count": 56,
   "metadata": {},
   "outputs": [
    {
     "name": "stdout",
     "output_type": "stream",
     "text": [
      "mean between trials: [4308.5196822  4296.42484753 4332.0125174  4325.01409165 4291.74670883\n",
      " 4284.11866582 4284.70280399 4290.63730951 4281.39517239 4272.73746175\n",
      " 4506.85844342 4484.87736006 4394.23379512 4454.16863277] \n",
      "std between trials:  [19.21779146 13.07940265 11.3537731   6.51272324 15.38847005  5.47171345\n",
      " 10.61221064  3.88569303  4.58467965  5.65106903  9.80866779  3.94634855\n",
      " 12.69384791  5.95810241]\n"
     ]
    }
   ],
   "source": [
    "mean_100_trials = []\n",
    "std_100_trials = []\n",
    "for trial in leg_data:\n",
    "    trial = np.array(trial)\n",
    "    trial = trial[2:1002, 2:16].T\n",
    "    mean =  trial.mean(axis=1)\n",
    "    std = trial.std(axis=1)\n",
    "    mean_100_trials.append(mean)\n",
    "    std_100_trials.append(std)\n",
    "\n",
    "mean = np.mean(mean_100_trials, axis=0)\n",
    "std = np.std(std_100_trials, axis=0)\n",
    "\n",
    "print(f\"mean between trials: {mean} \\nstd between trials:  {std}\")"
   ]
  },
  {
   "cell_type": "markdown",
   "metadata": {},
   "source": []
  }
 ],
 "metadata": {
  "kernelspec": {
   "display_name": "Python 3",
   "language": "python",
   "name": "python3"
  },
  "language_info": {
   "codemirror_mode": {
    "name": "ipython",
    "version": 3
   },
   "file_extension": ".py",
   "mimetype": "text/x-python",
   "name": "python",
   "nbconvert_exporter": "python",
   "pygments_lexer": "ipython3",
   "version": "3.7.16"
  }
 },
 "nbformat": 4,
 "nbformat_minor": 2
}
