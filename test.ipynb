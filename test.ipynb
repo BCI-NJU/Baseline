{
 "cells": [
  {
   "cell_type": "code",
   "execution_count": 1,
   "metadata": {},
   "outputs": [],
   "source": [
    "import os"
   ]
  },
  {
   "cell_type": "code",
   "execution_count": 24,
   "metadata": {},
   "outputs": [
    {
     "data": {
      "text/plain": [
       "2432"
      ]
     },
     "execution_count": 24,
     "metadata": {},
     "output_type": "execute_result"
    }
   ],
   "source": [
    "len(os.listdir(os.getcwd() + \"/data/train/nothing\"))"
   ]
  },
  {
   "cell_type": "code",
   "execution_count": 6,
   "metadata": {},
   "outputs": [
    {
     "name": "stdout",
     "output_type": "stream",
     "text": [
      "文件夹 '/mnt/workspace/Baseline/data/train/nothing' 的总大小：\n",
      "9951349 字节\n",
      "9718.11 KB\n",
      "9.49 MB\n",
      "0.01 GB\n"
     ]
    }
   ],
   "source": [
    "def get_folder_size(folder_path):\n",
    "    total_size = 0\n",
    "    try:\n",
    "        # 遍历文件夹中的所有文件和子文件夹\n",
    "        for dirpath, dirnames, filenames in os.walk(folder_path):\n",
    "            for filename in filenames:\n",
    "                filepath = os.path.join(dirpath, filename)\n",
    "                total_size += os.path.getsize(filepath)\n",
    "\n",
    "        # 将字节数转换为更大单位\n",
    "        total_size_kb = total_size / 1024.0\n",
    "        total_size_mb = total_size_kb / 1024.0\n",
    "        total_size_gb = total_size_mb / 1024.0\n",
    "\n",
    "        print(f\"文件夹 '{folder_path}' 的总大小：\")\n",
    "        print(f\"{total_size} 字节\")\n",
    "        print(f\"{total_size_kb:.2f} KB\")\n",
    "        print(f\"{total_size_mb:.2f} MB\")\n",
    "        print(f\"{total_size_gb:.2f} GB\")\n",
    "\n",
    "    except FileNotFoundError:\n",
    "        print(f\"文件夹 '{folder_path}' 不存在。\")\n",
    "\n",
    "# 替换为你要检查的文件夹路径\n",
    "folder_path_to_check = os.getcwd() + \"/data/train/nothing\"\n",
    "\n",
    "# 调用函数\n",
    "get_folder_size(folder_path_to_check)\n"
   ]
  },
  {
   "cell_type": "code",
   "execution_count": 2,
   "metadata": {},
   "outputs": [
    {
     "name": "stdout",
     "output_type": "stream",
     "text": [
      "Loaded nothing_processed.npy: Shape=(15, 300000), Dtype=float64\n"
     ]
    }
   ],
   "source": [
    "from load_lyh_data import *\n",
    "raw_data_dict = read_folder_npy_data(selected_file=[\"nothing_processed.npy\"])"
   ]
  },
  {
   "cell_type": "code",
   "execution_count": 6,
   "metadata": {},
   "outputs": [],
   "source": [
    "trial0 = raw_data_dict[\"nothing_processed.npy\"][0:-2,0:1000]"
   ]
  },
  {
   "cell_type": "code",
   "execution_count": 7,
   "metadata": {},
   "outputs": [],
   "source": [
    "trial1 = raw_data_dict[\"nothing_processed.npy\"][0:-2, 1000:2000]"
   ]
  },
  {
   "cell_type": "code",
   "execution_count": 10,
   "metadata": {},
   "outputs": [
    {
     "data": {
      "text/plain": [
       "(array([ 0.01442085, -1.56067872, -0.61960121, -1.33475331, -0.1442223 ,\n",
       "        -0.11273622,  0.32821187, -0.00432148,  0.68648067,  1.03092712,\n",
       "         1.53480116, -0.03937722,  2.97759998]),\n",
       " array([-0.44633239,  3.17614217, -0.49152672,  1.46486502,  0.68273147,\n",
       "        -0.06183269, -0.68817793, -1.48605677, -1.58720262, -2.11189917,\n",
       "        -3.03902474, -1.33781629, -4.38515012]))"
      ]
     },
     "execution_count": 10,
     "metadata": {},
     "output_type": "execute_result"
    }
   ],
   "source": [
    "trial0.mean(axis=1), trial1.mean(axis=1)"
   ]
  }
 ],
 "metadata": {
  "kernelspec": {
   "display_name": "Python 3",
   "language": "python",
   "name": "python3"
  },
  "language_info": {
   "codemirror_mode": {
    "name": "ipython",
    "version": 3
   },
   "file_extension": ".py",
   "mimetype": "text/x-python",
   "name": "python",
   "nbconvert_exporter": "python",
   "pygments_lexer": "ipython3",
   "version": "3.7.16"
  }
 },
 "nbformat": 4,
 "nbformat_minor": 2
}
