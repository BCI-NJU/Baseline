{
 "cells": [
  {
   "cell_type": "code",
   "execution_count": 4,
   "metadata": {},
   "outputs": [],
   "source": [
    "import torch\n",
    "import os\n",
    "import numpy as np\n",
    "import matplotlib.pyplot as plt\n",
    "from scipy.signal import spectrogram"
   ]
  },
  {
   "cell_type": "code",
   "execution_count": 5,
   "metadata": {},
   "outputs": [],
   "source": [
    "def read_folder_npy_data(folder_path):\n",
    "    data_dict = {}\n",
    "\n",
    "    # Filter only .npy files\n",
    "    npy_files = [f for f in os.listdir(folder_path) if f.endswith('.npy')]\n",
    "\n",
    "    # Load .npy files\n",
    "    for filename in npy_files:\n",
    "        file_path = os.path.join(folder_path, filename)\n",
    "        \n",
    "        try:\n",
    "            # Attempt to load the file\n",
    "            content = np.load(file_path, allow_pickle=True)\n",
    "\n",
    "            # Print information about the loaded file\n",
    "            print(f\"Loaded {filename}: Shape={content.shape}, Dtype={content.dtype}\")\n",
    "            \n",
    "            # Add to the dictionary\n",
    "            data_dict[filename] = content\n",
    "        \n",
    "        except Exception as e:\n",
    "            # Print an error message if loading fails\n",
    "            print(f\"Error loading {filename}: {e}\")\n",
    "\n",
    "    return data_dict\n",
    "\n"
   ]
  },
  {
   "cell_type": "code",
   "execution_count": 6,
   "metadata": {},
   "outputs": [
    {
     "name": "stdout",
     "output_type": "stream",
     "text": [
      "Loaded right2_orginal.npy: Shape=(100,), Dtype=object\n",
      "Loaded left1_orginal.npy: Shape=(100,), Dtype=object\n",
      "Loaded nothing2_orginal.npy: Shape=(100,), Dtype=object\n",
      "Loaded left3_orginal.npy: Shape=(100,), Dtype=object\n",
      "Loaded right3_orginal.npy: Shape=(100,), Dtype=object\n",
      "Loaded leg2_orginal.npy: Shape=(100,), Dtype=object\n",
      "Loaded right_processed.npy: Shape=(15, 300000), Dtype=float64\n",
      "Loaded left2_orginal.npy: Shape=(100,), Dtype=object\n",
      "Loaded left_processed.npy: Shape=(15, 300000), Dtype=float64\n",
      "Loaded nothing3_orginal.npy: Shape=(100,), Dtype=object\n",
      "Loaded leg1_orginal.npy: Shape=(100,), Dtype=object\n",
      "Loaded nothing1_orginal.npy: Shape=(100,), Dtype=object\n",
      "Loaded nothing_processed.npy: Shape=(15, 300000), Dtype=float64\n",
      "Loaded leg3_orginal.npy: Shape=(100,), Dtype=object\n",
      "Loaded leg_processed.npy: Shape=(15, 300000), Dtype=float64\n",
      "Loaded right1_orginal.npy: Shape=(100,), Dtype=object\n"
     ]
    }
   ],
   "source": [
    "lyh_data_path = \"Emotiv_dataloader-main/data\"\n",
    "data_dict = read_folder_npy_data(lyh_data_path)"
   ]
  },
  {
   "cell_type": "code",
   "execution_count": 7,
   "metadata": {},
   "outputs": [
    {
     "name": "stdout",
     "output_type": "stream",
     "text": [
      "file: left1_orginal.npy              data shape: (100,)\n",
      "file: left2_orginal.npy              data shape: (100,)\n",
      "file: left3_orginal.npy              data shape: (100,)\n",
      "file: left_processed.npy             data shape: (15, 300000)\n",
      "file: leg1_orginal.npy               data shape: (100,)\n",
      "file: leg2_orginal.npy               data shape: (100,)\n",
      "file: leg3_orginal.npy               data shape: (100,)\n",
      "file: leg_processed.npy              data shape: (15, 300000)\n",
      "file: nothing1_orginal.npy           data shape: (100,)\n",
      "file: nothing2_orginal.npy           data shape: (100,)\n",
      "file: nothing3_orginal.npy           data shape: (100,)\n",
      "file: nothing_processed.npy          data shape: (15, 300000)\n",
      "file: right1_orginal.npy             data shape: (100,)\n",
      "file: right2_orginal.npy             data shape: (100,)\n",
      "file: right3_orginal.npy             data shape: (100,)\n",
      "file: right_processed.npy            data shape: (15, 300000)\n"
     ]
    }
   ],
   "source": [
    "for file in sorted(data_dict.keys()):\n",
    "    print(\"file: {:<30} data shape: {}\".format(file, data_dict[file].shape))"
   ]
  },
  {
   "cell_type": "code",
   "execution_count": 29,
   "metadata": {},
   "outputs": [],
   "source": [
    "keys = [\"nothing_processed.npy\", \"left_processed.npy\", \"right_processed.npy\", \"leg_processed.npy\"]\n",
    "train_data, train_labels, test_data, test_labels = [], [], [], []\n",
    "for key in keys:\n",
    "    d = [data_dict[key][0:14, i:i+1000] for i in range(0, data_dict[key].shape[1], 1000)]\n",
    "    train_data += d[:int(len(d) * 0.8)]\n",
    "    train_labels += [keys.index(key)] * len(d[:int(len(d) * 0.8)])\n",
    "    test_data += d[int(len(d) * 0.8):]\n",
    "    test_labels += [keys.index(key)] * len(d[int(len(d) * 0.8):])\n"
   ]
  },
  {
   "cell_type": "code",
   "execution_count": null,
   "metadata": {},
   "outputs": [],
   "source": [
    "left_data = [data_dict[\"left_processed.npy\"][0:14, i:i+1000] for i in range(0, data_dict[\"left_processed.npy\"].shape[1], 1000)]"
   ]
  },
  {
   "cell_type": "code",
   "execution_count": 9,
   "metadata": {},
   "outputs": [],
   "source": [
    "left_label = [1] * len(left_data)"
   ]
  },
  {
   "cell_type": "code",
   "execution_count": 10,
   "metadata": {},
   "outputs": [],
   "source": [
    "left_data = torch.Tensor(left_data)"
   ]
  },
  {
   "cell_type": "code",
   "execution_count": 11,
   "metadata": {},
   "outputs": [],
   "source": [
    "right_data = [data_dict[\"right_processed.npy\"][0:14, i:i+1000] \\\n",
    "    for i in range(0, data_dict[\"right_processed.npy\"].shape[1], 1000)]\n",
    "right_label = [0] * len(right_data)\n",
    "right_data = torch.Tensor(right_data)"
   ]
  },
  {
   "cell_type": "code",
   "execution_count": 41,
   "metadata": {},
   "outputs": [],
   "source": [
    "def draw_save(data, label_list, label_names, ch_names, save_path):\n",
    "    '''\n",
    "    data: (n, n_channels, n_times)\n",
    "    '''\n",
    "    # 这里对提取的数据进行绘制时频图并保存\n",
    "    # label_list = [str(i) for i in label_list]\n",
    "    ch_len = len(ch_names)\n",
    "    label_len = len(label_list)\n",
    "    for count in range(label_len):\n",
    "        # epochs标签(data.shape[0])\n",
    "        for i in range(ch_len):\n",
    "            # 通道数\n",
    "            plt.rcParams['figure.figsize'] = (4.48, 4.48)  # 2.24, 2.24 设置figure_size尺寸\n",
    "            plt.rcParams['savefig.dpi'] = 50  # 图片像素 这样输出的就是4.48*50=224\n",
    "            plt.specgram(data[count][i], NFFT=16, Fs=128, noverlap=10)\n",
    "            q = str(count)\n",
    "            # path = save_path + label_list[count] + \"/\" + ch_names[i] + \"_\" + k + \"_\" + q + \".png\"\n",
    "            path = save_path + label_names[label_list[count]] + \"/\"\n",
    "            if not os.path.exists(path):\n",
    "                os.mkdir(path)\n",
    "            path += ch_names[i] + \"_\" + q + \".png\"\n",
    "            plt.savefig(path, bbox_inches='tight', pad_inches=0)  # 后两项为去除白边\n",
    "            # print(\"1\")\n",
    " \n",
    "    print(save_path + \"has been finished\\n\")"
   ]
  },
  {
   "cell_type": "code",
   "execution_count": 42,
   "metadata": {},
   "outputs": [],
   "source": [
    "channel_names = [\"AF3\",\"F7\",\"F3\",\"FC5\",\"T7\",\"P7\",\"O1\",\"O2\",\"P8\",\"T8\",\"FC6\",\"F4\",\"F8\",\"AF4\"]\n",
    "label_names = [\"nothing\", \"left\", \"right\", \"leg\"]\n",
    "figure_data_path = os.getcwd() + \"/figure_like_data/\"\n",
    "if not os.path.exists(figure_data_path):\n",
    "    os.mkdir(figure_data_path)\n",
    "figure_data_path_train = figure_data_path + \"train/\"\n",
    "if not os.path.exists(figure_data_path_train):\n",
    "    os.mkdir(figure_data_path_train)\n",
    "figure_data_path_test = figure_data_path + \"test/\"\n",
    "if not os.path.exists(figure_data_path_test):\n",
    "    os.mkdir(figure_data_path_test)\n",
    "draw_save(train_data, train_labels, label_names, channel_names, figure_data_path_train)"
   ]
  }
 ],
 "metadata": {
  "kernelspec": {
   "display_name": "Python 3",
   "language": "python",
   "name": "python3"
  },
  "language_info": {
   "codemirror_mode": {
    "name": "ipython",
    "version": 3
   },
   "file_extension": ".py",
   "mimetype": "text/x-python",
   "name": "python",
   "nbconvert_exporter": "python",
   "pygments_lexer": "ipython3",
   "version": "3.7.16"
  }
 },
 "nbformat": 4,
 "nbformat_minor": 2
}
